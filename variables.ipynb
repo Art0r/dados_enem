{
 "cells": [
  {
   "cell_type": "code",
   "execution_count": 4,
   "id": "7d4a1965-c32c-430d-af37-6e68315087c2",
   "metadata": {},
   "outputs": [],
   "source": [
    "import pandas as pd\n",
    "import matplotlib.pyplot as plt\n",
    "\n",
    "PATH= './microdados_enem_2019/DADOS/MICRODADOS_ENEM_2019.csv'\n",
    "CHUNK_PATH= './chunk1.csv'\n",
    "ENCODING= \"latin1\"\n",
    "SEP= \";\"\n",
    "CHUNKSIZE= 1500000\n",
    "COLS= [\n",
    "        'CO_UF_RESIDENCIA', \n",
    "        'SG_UF_RESIDENCIA', \n",
    "        'TP_SEXO', \n",
    "        'NU_IDADE', \n",
    "        'TP_COR_RACA',\n",
    "        'TP_ESCOLA',\n",
    "        'IN_TREINEIRO',\n",
    "        'NU_NOTA_CN',\n",
    "        'NU_NOTA_MT',\n",
    "        'NU_NOTA_LC',\n",
    "        'NU_NOTA_CH',\n",
    "        'NU_NOTA_REDACAO',\n",
    "        'TP_PRESENCA_MT',\n",
    "        'TP_PRESENCA_CN',\n",
    "        'TP_PRESENCA_CH',\n",
    "        'TP_PRESENCA_LC',\n",
    "        'TP_STATUS_REDACAO'\n",
    "]"
   ]
  },
  {
   "cell_type": "code",
   "execution_count": 5,
   "id": "8501e6d4-cde9-48be-b035-0c18167f9390",
   "metadata": {},
   "outputs": [
    {
     "name": "stdout",
     "output_type": "stream",
     "text": [
      "Stored 'dt_unzeroed' (DataFrame)\n"
     ]
    }
   ],
   "source": [
    "dt= pd.read_csv(PATH, encoding=ENCODING, sep=SEP, usecols=COLS)\n",
    "dt_unzeroed= dt.loc[\n",
    "    (dt['NU_NOTA_REDACAO'] != 0) & \n",
    "    (dt['TP_PRESENCA_MT'] == 1) & \n",
    "    (dt['TP_PRESENCA_LC'] == 1) & \n",
    "    (dt['TP_PRESENCA_CH'] == 1) & \n",
    "    (dt['TP_PRESENCA_CN'] == 1)\n",
    "]\n",
    "\n",
    "%store dt_unzeroed"
   ]
  }
 ],
 "metadata": {
  "kernelspec": {
   "display_name": "Python 3 (ipykernel)",
   "language": "python",
   "name": "python3"
  },
  "language_info": {
   "codemirror_mode": {
    "name": "ipython",
    "version": 3
   },
   "file_extension": ".py",
   "mimetype": "text/x-python",
   "name": "python",
   "nbconvert_exporter": "python",
   "pygments_lexer": "ipython3",
   "version": "3.8.10"
  }
 },
 "nbformat": 4,
 "nbformat_minor": 5
}
